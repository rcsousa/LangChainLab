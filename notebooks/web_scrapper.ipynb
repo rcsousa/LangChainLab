{
 "cells": [
  {
   "cell_type": "code",
   "execution_count": 2,
   "metadata": {},
   "outputs": [],
   "source": [
    "import requests\n",
    "from bs4 import BeautifulSoup"
   ]
  },
  {
   "cell_type": "code",
   "execution_count": 5,
   "metadata": {},
   "outputs": [
    {
     "data": {
      "text/plain": [
       "b'<!DOCTYPE html>\\n<html lang=\"en\">\\n  <head>\\n    <script>(function(w,d,s,l,i){w[l]=w[l]||[];w[l].push({\\'gtm.start\\': new Date().getTime(),event:\\'gtm.js\\'});var f=d.getElementsByTagName(s)[0], j=d.createElement(s),dl=l!=\\'dataLayer\\'?\\'&l=\\'+l:\\'\\';j.async=true;j.src= \\'https://www.googletagmanager.com/gtm.js?id=\\'+i+dl;f.parentNode.insertBefore(j,f); })(window,document,\\'script\\',\\'dataLayer\\',\\'GTM-WVF23W3\\');</script>\\n    <meta charset=\"utf-8\">\\n    <meta content=\"initial-scale=1, minimum-scale=1, width=device-width\" name=\"viewport\">\\n    <title>Google - Site Reliability Engineering</title>\\n    <meta name=\"referrer\" content=\"no-referrer\" />\\n    <link rel=\"apple-touch-icon-precomposed\" sizes=\"180x180\" href=\"https://lh3.googleusercontent.com/Yf2DCX8RKda6r4Jml9DLMByS2zQCBFs3kQpvBfN8UgIh4YVWIYSYIQOoTxJriyuM26cT5PDjyEb5aynDQ0Xyz46yHKnfg8JlUbDW\">\\n    <link rel=\"stylesheet\" href=\"//fonts.googleapis.com/css?family=Google+Sans:400|Roboto:400,400italic,500,500italic,700,700italic|Roboto+Mono:400,500,700|Material+Icons\">\\n    <link rel=\"icon\" type=\"image/png\" sizes=\"32x32\" href=\"https://lh3.googleusercontent.com/Yf2DCX8RKda6r4Jml9DLMByS2zQCBFs3kQpvBfN8UgIh4YVWIYSYIQOoTxJriyuM26cT5PDjyEb5aynDQ0Xyz46yHKnfg8JlUbDW\">\\n    <link rel=\"icon\" type=\"image/png\" sizes=\"16x16\" href=\"https://lh3.googleusercontent.com/Yf2DCX8RKda6r4Jml9DLMByS2zQCBFs3kQpvBfN8UgIh4YVWIYSYIQOoTxJriyuM26cT5PDjyEb5aynDQ0Xyz46yHKnfg8JlUbDW\">\\n    <link rel=\"shortcut icon\" href=\"https://lh3.googleusercontent.com/Yf2DCX8RKda6r4Jml9DLMByS2zQCBFs3kQpvBfN8UgIh4YVWIYSYIQOoTxJriyuM26cT5PDjyEb5aynDQ0Xyz46yHKnfg8JlUbDW\">\\n    <link href=\"/sre-book/static/css/index.min.css?cache=4450b70\" rel=\"stylesheet\">\\n    <script>\\n      (function(i,s,o,g,r,a,m){i[\\'GoogleAnalyticsObject\\']=r;i[r]=i[r]||function(){\\n      (i[r].q=i[r].q||[]).push(arguments)},i[r].l=1*new Date();a=s.createElement(o),\\n      m=s.getElementsByTagName(o)[0];a.async=1;a.src=g;m.parentNode.insertBefore(a,m)\\n      })(window,document,\\'script\\',\\'https://www.google-analytics.com/analytics.js\\',\\'ga\\');\\n\\n      ga(\\'create\\', \\'UA-75468017-1\\', \\'auto\\');\\n      ga(\\'send\\', \\'pageview\\');\\n    </script>\\n\\n    <script src=\"/sre-book/static/js/detect.min.js?cache=4cb778b\"></script>\\n  </head>\\n\\n  <body>\\n    <noscript><iframe class=\"no-script-iframe\" src=\"https://www.googletagmanager.com/ns.html?id=GTM-WVF23W3\"></iframe></noscript>\\n    <main>\\n<div ng-controller= \"HeaderCtrl as headerCtrl\">\\n  <div id=\"curtain\" class=\"menu-closed\"></div>\\n  <div class=\"header clearfix\">\\n    <a id=\"burger-menu\" class=\"expand\"></a>\\n    <h2 class=\"chapter-title\">\\n      Table of Contents\\n    </h2>\\n  </div>\\n  <div id=\"overlay-element\" class=\"expands\">\\n    <div class=\"logo\">\\n      <a href=\"https://www.google.com\"><img src=\"https://lh3.googleusercontent.com/YoVRtLOHMSRYQZ3OhFL8RIamcjFYbmQXX4oAQx02MRqqY9zlKNvsuZpS73khXiOqTH3qrFW27VrERJJIHTjPk-tAh46q8-Fd4w6qlw\" alt=\"Google\"></a>\\n    </div>\\n    <ol id=\"drop-down\" class=\"dropdown-content hide\">\\n        <li>\\n          <a href=\"/sre-book/foreword/\" class=\"menu-buttons\">\\n              Foreword\\n          </a>\\n        </li>\\n        <li>\\n          <a href=\"/sre-book/preface/\" class=\"menu-buttons\">\\n              Preface\\n          </a>\\n        </li>\\n        <li>\\n          <a href=\"/sre-book/part-I-introduction/\" class=\"menu-buttons\">\\n              Part I - Introduction\\n          </a>\\n        </li>\\n        <li>\\n          <a href=\"/sre-book/introduction/\" class=\"menu-buttons\">\\n              1. Introduction\\n          </a>\\n        </li>\\n        <li>\\n          <a href=\"/sre-book/production-environment/\" class=\"menu-buttons\">\\n              2. The Production Environment at Google, from the Viewpoint of an SRE\\n          </a>\\n        </li>\\n        <li>\\n          <a href=\"/sre-book/part-II-principles/\" class=\"menu-buttons\">\\n              Part II - Principles\\n          </a>\\n        </li>\\n        <li>\\n          <a href=\"/sre-book/embracing-risk/\" class=\"menu-buttons\">\\n              3. Embracing Risk\\n          </a>\\n        </li>\\n        <li>\\n          <a href=\"/sre-book/service-level-objectives/\" class=\"menu-buttons\">\\n              4. Service Level Objectives\\n          </a>\\n        </li>\\n        <li>\\n          <a href=\"/sre-book/eliminating-toil/\" class=\"menu-buttons\">\\n              5. Eliminating Toil\\n          </a>\\n        </li>\\n        <li>\\n          <a href=\"/sre-book/monitoring-distributed-systems/\" class=\"menu-buttons\">\\n              6. Monitoring Distributed Systems\\n          </a>\\n        </li>\\n        <li>\\n          <a href=\"/sre-book/automation-at-google/\" class=\"menu-buttons\">\\n              7. The Evolution of Automation at Google\\n          </a>\\n        </li>\\n        <li>\\n          <a href=\"/sre-book/release-engineering/\" class=\"menu-buttons\">\\n              8. Release Engineering\\n          </a>\\n        </li>\\n        <li>\\n          <a href=\"/sre-book/simplicity/\" class=\"menu-buttons\">\\n              9. Simplicity\\n          </a>\\n        </li>\\n        <li>\\n          <a href=\"/sre-book/part-III-practices/\" class=\"menu-buttons\">\\n              Part III - Practices\\n          </a>\\n        </li>\\n        <li>\\n          <a href=\"/sre-book/practical-alerting/\" class=\"menu-buttons\">\\n              10. Practical Alerting\\n          </a>\\n        </li>\\n        <li>\\n          <a href=\"/sre-book/being-on-call/\" class=\"menu-buttons\">\\n              11. Being On-Call\\n          </a>\\n        </li>\\n        <li>\\n          <a href=\"/sre-book/effective-troubleshooting/\" class=\"menu-buttons\">\\n              12. Effective Troubleshooting\\n          </a>\\n        </li>\\n        <li>\\n          <a href=\"/sre-book/emergency-response/\" class=\"menu-buttons\">\\n              13. Emergency Response\\n          </a>\\n        </li>\\n        <li>\\n          <a href=\"/sre-book/managing-incidents/\" class=\"menu-buttons\">\\n              14. Managing Incidents\\n          </a>\\n        </li>\\n        <li>\\n          <a href=\"/sre-book/postmortem-culture/\" class=\"menu-buttons\">\\n              15. Postmortem Culture: Learning from Failure\\n          </a>\\n        </li>\\n        <li>\\n          <a href=\"/sre-book/tracking-outages/\" class=\"menu-buttons\">\\n              16. Tracking Outages\\n          </a>\\n        </li>\\n        <li>\\n          <a href=\"/sre-book/testing-reliability/\" class=\"menu-buttons\">\\n              17. Testing for Reliability\\n          </a>\\n        </li>\\n        <li>\\n          <a href=\"/sre-book/software-engineering-in-sre/\" class=\"menu-buttons\">\\n              18. Software Engineering in SRE\\n          </a>\\n        </li>\\n        <li>\\n          <a href=\"/sre-book/load-balancing-frontend/\" class=\"menu-buttons\">\\n              19. Load Balancing at the Frontend\\n          </a>\\n        </li>\\n        <li>\\n          <a href=\"/sre-book/load-balancing-datacenter/\" class=\"menu-buttons\">\\n              20. Load Balancing in the Datacenter\\n          </a>\\n        </li>\\n        <li>\\n          <a href=\"/sre-book/handling-overload/\" class=\"menu-buttons\">\\n              21. Handling Overload\\n          </a>\\n        </li>\\n        <li>\\n          <a href=\"/sre-book/addressing-cascading-failures/\" class=\"menu-buttons\">\\n              22. Addressing Cascading Failures\\n          </a>\\n        </li>\\n        <li>\\n          <a href=\"/sre-book/managing-critical-state/\" class=\"menu-buttons\">\\n              23. Managing Critical State: Distributed Consensus for Reliability\\n          </a>\\n        </li>\\n        <li>\\n          <a href=\"/sre-book/distributed-periodic-scheduling/\" class=\"menu-buttons\">\\n              24. Distributed Periodic Scheduling with Cron\\n          </a>\\n        </li>\\n        <li>\\n          <a href=\"/sre-book/data-processing-pipelines/\" class=\"menu-buttons\">\\n              25. Data Processing Pipelines\\n          </a>\\n        </li>\\n        <li>\\n          <a href=\"/sre-book/data-integrity/\" class=\"menu-buttons\">\\n              26. Data Integrity: What You Read Is What You Wrote\\n          </a>\\n        </li>\\n        <li>\\n          <a href=\"/sre-book/reliable-product-launches/\" class=\"menu-buttons\">\\n              27. Reliable Product Launches at Scale\\n          </a>\\n        </li>\\n        <li>\\n          <a href=\"/sre-book/part-IV-management/\" class=\"menu-buttons\">\\n              Part IV - Management\\n          </a>\\n        </li>\\n        <li>\\n          <a href=\"/sre-book/accelerating-sre-on-call/\" class=\"menu-buttons\">\\n              28. Accelerating SREs to On-Call and Beyond\\n          </a>\\n        </li>\\n        <li>\\n          <a href=\"/sre-book/dealing-with-interrupts/\" class=\"menu-buttons\">\\n              29. Dealing with Interrupts\\n          </a>\\n        </li>\\n        <li>\\n          <a href=\"/sre-book/operational-overload/\" class=\"menu-buttons\">\\n              30. Embedding an SRE to Recover from Operational Overload\\n          </a>\\n        </li>\\n        <li>\\n          <a href=\"/sre-book/communication-and-collaboration/\" class=\"menu-buttons\">\\n              31. Communication and Collaboration in SRE\\n          </a>\\n        </li>\\n        <li>\\n          <a href=\"/sre-book/evolving-sre-engagement-model/\" class=\"menu-buttons\">\\n              32. The Evolving SRE Engagement Model\\n          </a>\\n        </li>\\n        <li>\\n          <a href=\"/sre-book/part-V-conclusions/\" class=\"menu-buttons\">\\n              Part V - Conclusions\\n          </a>\\n        </li>\\n        <li>\\n          <a href=\"/sre-book/lessons-learned/\" class=\"menu-buttons\">\\n              33. Lessons Learned from Other Industries\\n          </a>\\n        </li>\\n        <li>\\n          <a href=\"/sre-book/conclusion/\" class=\"menu-buttons\">\\n              34. Conclusion\\n          </a>\\n        </li>\\n        <li>\\n          <a href=\"/sre-book/availability-table/\" class=\"menu-buttons\">\\n              Appendix A. Availability Table\\n          </a>\\n        </li>\\n        <li>\\n          <a href=\"/sre-book/service-best-practices/\" class=\"menu-buttons\">\\n              Appendix B. A Collection of Best Practices for Production Services\\n          </a>\\n        </li>\\n        <li>\\n          <a href=\"/sre-book/incident-document/\" class=\"menu-buttons\">\\n              Appendix C. Example Incident State Document\\n          </a>\\n        </li>\\n        <li>\\n          <a href=\"/sre-book/example-postmortem/\" class=\"menu-buttons\">\\n              Appendix D. Example Postmortem\\n          </a>\\n        </li>\\n        <li>\\n          <a href=\"/sre-book/launch-checklist/\" class=\"menu-buttons\">\\n              Appendix E. Launch Coordination Checklist\\n          </a>\\n        </li>\\n        <li>\\n          <a href=\"/sre-book/production-meeting/\" class=\"menu-buttons\">\\n              Appendix F. Example Production Meeting Minutes\\n          </a>\\n        </li>\\n        <li>\\n          <a href=\"/sre-book/bibliography/\" class=\"menu-buttons\">\\n              Bibliography\\n          </a>\\n        </li>\\n    </ol>\\n  </div>\\n</div><div id=\"maia-main\" role=\"main\">\\n  <div class=\"book-wrapper\">\\n    <div class=\"maia-aux\">\\n      <div class=\"maia-cols\">\\n        <div class=\"maia-col-12\" id=\"content\">\\n          <h1 class=\"heading\">Table of Contents</h1>\\n          <div class=\"content\">\\n            <ul>\\n              <li><a class=\"menu-buttons\" href=\"/sre-book/table-of-contents/\">Table of Contents</a></li>\\n                <li>\\n                  <a href=\"/sre-book/foreword/\">\\n                      Foreword\\n                  </a>\\n                </li>\\n                <li>\\n                  <a href=\"/sre-book/preface/\">\\n                      Preface\\n                  </a>\\n                </li>\\n                <li>\\n                  <a href=\"/sre-book/part-I-introduction/\">\\n                      <strong>Part I - Introduction</strong>\\n                  </a>\\n                </li>\\n                <li>\\n                  <a href=\"/sre-book/introduction/\">\\n                      Chapter 1 - Introduction\\n                  </a>\\n                </li>\\n                <li>\\n                  <a href=\"/sre-book/production-environment/\">\\n                      Chapter 2 - The Production Environment at Google, from the Viewpoint of an SRE\\n                  </a>\\n                </li>\\n                <li>\\n                  <a href=\"/sre-book/part-II-principles/\">\\n                      <strong>Part II - Principles</strong>\\n                  </a>\\n                </li>\\n                <li>\\n                  <a href=\"/sre-book/embracing-risk/\">\\n                      Chapter 3 - Embracing Risk\\n                  </a>\\n                </li>\\n                <li>\\n                  <a href=\"/sre-book/service-level-objectives/\">\\n                      Chapter 4 - Service Level Objectives\\n                  </a>\\n                </li>\\n                <li>\\n                  <a href=\"/sre-book/eliminating-toil/\">\\n                      Chapter 5 - Eliminating Toil\\n                  </a>\\n                </li>\\n                <li>\\n                  <a href=\"/sre-book/monitoring-distributed-systems/\">\\n                      Chapter 6 - Monitoring Distributed Systems\\n                  </a>\\n                </li>\\n                <li>\\n                  <a href=\"/sre-book/automation-at-google/\">\\n                      Chapter 7 - The Evolution of Automation at Google\\n                  </a>\\n                </li>\\n                <li>\\n                  <a href=\"/sre-book/release-engineering/\">\\n                      Chapter 8 - Release Engineering\\n                  </a>\\n                </li>\\n                <li>\\n                  <a href=\"/sre-book/simplicity/\">\\n                      Chapter 9 - Simplicity\\n                  </a>\\n                </li>\\n                <li>\\n                  <a href=\"/sre-book/part-III-practices/\">\\n                      <strong>Part III - Practices</strong>\\n                  </a>\\n                </li>\\n                <li>\\n                  <a href=\"/sre-book/practical-alerting/\">\\n                      Chapter 10 - Practical Alerting\\n                  </a>\\n                </li>\\n                <li>\\n                  <a href=\"/sre-book/being-on-call/\">\\n                      Chapter 11 - Being On-Call\\n                  </a>\\n                </li>\\n                <li>\\n                  <a href=\"/sre-book/effective-troubleshooting/\">\\n                      Chapter 12 - Effective Troubleshooting\\n                  </a>\\n                </li>\\n                <li>\\n                  <a href=\"/sre-book/emergency-response/\">\\n                      Chapter 13 - Emergency Response\\n                  </a>\\n                </li>\\n                <li>\\n                  <a href=\"/sre-book/managing-incidents/\">\\n                      Chapter 14 - Managing Incidents\\n                  </a>\\n                </li>\\n                <li>\\n                  <a href=\"/sre-book/postmortem-culture/\">\\n                      Chapter 15 - Postmortem Culture: Learning from Failure\\n                  </a>\\n                </li>\\n                <li>\\n                  <a href=\"/sre-book/tracking-outages/\">\\n                      Chapter 16 - Tracking Outages\\n                  </a>\\n                </li>\\n                <li>\\n                  <a href=\"/sre-book/testing-reliability/\">\\n                      Chapter 17 - Testing for Reliability\\n                  </a>\\n                </li>\\n                <li>\\n                  <a href=\"/sre-book/software-engineering-in-sre/\">\\n                      Chapter 18 - Software Engineering in SRE\\n                  </a>\\n                </li>\\n                <li>\\n                  <a href=\"/sre-book/load-balancing-frontend/\">\\n                      Chapter 19 - Load Balancing at the Frontend\\n                  </a>\\n                </li>\\n                <li>\\n                  <a href=\"/sre-book/load-balancing-datacenter/\">\\n                      Chapter 20 - Load Balancing in the Datacenter\\n                  </a>\\n                </li>\\n                <li>\\n                  <a href=\"/sre-book/handling-overload/\">\\n                      Chapter 21 - Handling Overload\\n                  </a>\\n                </li>\\n                <li>\\n                  <a href=\"/sre-book/addressing-cascading-failures/\">\\n                      Chapter 22 - Addressing Cascading Failures\\n                  </a>\\n                </li>\\n                <li>\\n                  <a href=\"/sre-book/managing-critical-state/\">\\n                      Chapter 23 - Managing Critical State: Distributed Consensus for Reliability\\n                  </a>\\n                </li>\\n                <li>\\n                  <a href=\"/sre-book/distributed-periodic-scheduling/\">\\n                      Chapter 24 - Distributed Periodic Scheduling with Cron\\n                  </a>\\n                </li>\\n                <li>\\n                  <a href=\"/sre-book/data-processing-pipelines/\">\\n                      Chapter 25 - Data Processing Pipelines\\n                  </a>\\n                </li>\\n                <li>\\n                  <a href=\"/sre-book/data-integrity/\">\\n                      Chapter 26 - Data Integrity: What You Read Is What You Wrote\\n                  </a>\\n                </li>\\n                <li>\\n                  <a href=\"/sre-book/reliable-product-launches/\">\\n                      Chapter 27 - Reliable Product Launches at Scale\\n                  </a>\\n                </li>\\n                <li>\\n                  <a href=\"/sre-book/part-IV-management/\">\\n                      <strong>Part IV - Management</strong>\\n                  </a>\\n                </li>\\n                <li>\\n                  <a href=\"/sre-book/accelerating-sre-on-call/\">\\n                      Chapter 28 - Accelerating SREs to On-Call and Beyond\\n                  </a>\\n                </li>\\n                <li>\\n                  <a href=\"/sre-book/dealing-with-interrupts/\">\\n                      Chapter 29 - Dealing with Interrupts\\n                  </a>\\n                </li>\\n                <li>\\n                  <a href=\"/sre-book/operational-overload/\">\\n                      Chapter 30 - Embedding an SRE to Recover from Operational Overload\\n                  </a>\\n                </li>\\n                <li>\\n                  <a href=\"/sre-book/communication-and-collaboration/\">\\n                      Chapter 31 - Communication and Collaboration in SRE\\n                  </a>\\n                </li>\\n                <li>\\n                  <a href=\"/sre-book/evolving-sre-engagement-model/\">\\n                      Chapter 32 - The Evolving SRE Engagement Model\\n                  </a>\\n                </li>\\n                <li>\\n                  <a href=\"/sre-book/part-V-conclusions/\">\\n                      <strong>Part V - Conclusions</strong>\\n                  </a>\\n                </li>\\n                <li>\\n                  <a href=\"/sre-book/lessons-learned/\">\\n                      Chapter 33 - Lessons Learned from Other Industries\\n                  </a>\\n                </li>\\n                <li>\\n                  <a href=\"/sre-book/conclusion/\">\\n                      Chapter 34 - Conclusion\\n                  </a>\\n                </li>\\n                <li>\\n                  <a href=\"/sre-book/availability-table/\">\\n                      Appendix A - Availability Table\\n                  </a>\\n                </li>\\n                <li>\\n                  <a href=\"/sre-book/service-best-practices/\">\\n                      Appendix B - A Collection of Best Practices for Production Services\\n                  </a>\\n                </li>\\n                <li>\\n                  <a href=\"/sre-book/incident-document/\">\\n                      Appendix C - Example Incident State Document\\n                  </a>\\n                </li>\\n                <li>\\n                  <a href=\"/sre-book/example-postmortem/\">\\n                      Appendix D - Example Postmortem\\n                  </a>\\n                </li>\\n                <li>\\n                  <a href=\"/sre-book/launch-checklist/\">\\n                      Appendix E - Launch Coordination Checklist\\n                  </a>\\n                </li>\\n                <li>\\n                  <a href=\"/sre-book/production-meeting/\">\\n                      Appendix F - Example Production Meeting Minutes\\n                  </a>\\n                </li>\\n                <li>\\n                  <a href=\"/sre-book/bibliography/\">\\n                      Bibliography\\n                  </a>\\n                </li>\\n            </ul>\\n          </div>\\n        </div>\\n      </div>\\n    </div>\\n  </div>\\n</div><div class=\"footer\">\\n  <div class=\"maia-aux\">\\n      <p class=\"footer-link\">Copyright \\xc2\\xa9 2017 Google, Inc. Published by O\\'Reilly Media, Inc. Licensed under <a href=\"https://creativecommons.org/licenses/by-nc-nd/4.0/\" rel=\"noopener noreferrer\" target=\"_blank\">CC BY-NC-ND 4.0</a></p>\\n  </div>\\n</div>    </main>\\n    <script src=\"//ajax.googleapis.com/ajax/libs/angularjs/1.6.6/angular.min.js\"></script>\\n    <script src=\"//ajax.googleapis.com/ajax/libs/angularjs/1.6.6/angular-animate.min.js\"></script>\\n    <script src=\"//ajax.googleapis.com/ajax/libs/angularjs/1.6.6/angular-touch.min.js\"></script>\\n    <script src=\"/sre-book/static/js/index.min.js?cache=5b7f90b\"></script>\\n\\n  </body>\\n</html>'"
      ]
     },
     "execution_count": 5,
     "metadata": {},
     "output_type": "execute_result"
    }
   ],
   "source": [
    "url = \"https://sre.google/sre-book/table-of-contents/\"\n",
    "page = requests.get(url)\n",
    "page.content"
   ]
  },
  {
   "cell_type": "code",
   "execution_count": 6,
   "metadata": {},
   "outputs": [],
   "source": [
    "soup = BeautifulSoup(page.content, \"html.parser\")"
   ]
  },
  {
   "cell_type": "code",
   "execution_count": 17,
   "metadata": {},
   "outputs": [],
   "source": [
    "results = soup.find_all(class_=\"menu-buttons\")"
   ]
  },
  {
   "cell_type": "code",
   "execution_count": 25,
   "metadata": {},
   "outputs": [],
   "source": [
    "for result in results:\n",
    "    a = soup.find_all(\"a\", href=True)"
   ]
  },
  {
   "cell_type": "code",
   "execution_count": 26,
   "metadata": {},
   "outputs": [
    {
     "name": "stdout",
     "output_type": "stream",
     "text": [
      "https://www.google.com\n",
      "/sre-book/foreword/\n",
      "/sre-book/preface/\n",
      "/sre-book/part-I-introduction/\n",
      "/sre-book/introduction/\n",
      "/sre-book/production-environment/\n",
      "/sre-book/part-II-principles/\n",
      "/sre-book/embracing-risk/\n",
      "/sre-book/service-level-objectives/\n",
      "/sre-book/eliminating-toil/\n",
      "/sre-book/monitoring-distributed-systems/\n",
      "/sre-book/automation-at-google/\n",
      "/sre-book/release-engineering/\n",
      "/sre-book/simplicity/\n",
      "/sre-book/part-III-practices/\n",
      "/sre-book/practical-alerting/\n",
      "/sre-book/being-on-call/\n",
      "/sre-book/effective-troubleshooting/\n",
      "/sre-book/emergency-response/\n",
      "/sre-book/managing-incidents/\n",
      "/sre-book/postmortem-culture/\n",
      "/sre-book/tracking-outages/\n",
      "/sre-book/testing-reliability/\n",
      "/sre-book/software-engineering-in-sre/\n",
      "/sre-book/load-balancing-frontend/\n",
      "/sre-book/load-balancing-datacenter/\n",
      "/sre-book/handling-overload/\n",
      "/sre-book/addressing-cascading-failures/\n",
      "/sre-book/managing-critical-state/\n",
      "/sre-book/distributed-periodic-scheduling/\n",
      "/sre-book/data-processing-pipelines/\n",
      "/sre-book/data-integrity/\n",
      "/sre-book/reliable-product-launches/\n",
      "/sre-book/part-IV-management/\n",
      "/sre-book/accelerating-sre-on-call/\n",
      "/sre-book/dealing-with-interrupts/\n",
      "/sre-book/operational-overload/\n",
      "/sre-book/communication-and-collaboration/\n",
      "/sre-book/evolving-sre-engagement-model/\n",
      "/sre-book/part-V-conclusions/\n",
      "/sre-book/lessons-learned/\n",
      "/sre-book/conclusion/\n",
      "/sre-book/availability-table/\n",
      "/sre-book/service-best-practices/\n",
      "/sre-book/incident-document/\n",
      "/sre-book/example-postmortem/\n",
      "/sre-book/launch-checklist/\n",
      "/sre-book/production-meeting/\n",
      "/sre-book/bibliography/\n",
      "/sre-book/table-of-contents/\n",
      "/sre-book/foreword/\n",
      "/sre-book/preface/\n",
      "/sre-book/part-I-introduction/\n",
      "/sre-book/introduction/\n",
      "/sre-book/production-environment/\n",
      "/sre-book/part-II-principles/\n",
      "/sre-book/embracing-risk/\n",
      "/sre-book/service-level-objectives/\n",
      "/sre-book/eliminating-toil/\n",
      "/sre-book/monitoring-distributed-systems/\n",
      "/sre-book/automation-at-google/\n",
      "/sre-book/release-engineering/\n",
      "/sre-book/simplicity/\n",
      "/sre-book/part-III-practices/\n",
      "/sre-book/practical-alerting/\n",
      "/sre-book/being-on-call/\n",
      "/sre-book/effective-troubleshooting/\n",
      "/sre-book/emergency-response/\n",
      "/sre-book/managing-incidents/\n",
      "/sre-book/postmortem-culture/\n",
      "/sre-book/tracking-outages/\n",
      "/sre-book/testing-reliability/\n",
      "/sre-book/software-engineering-in-sre/\n",
      "/sre-book/load-balancing-frontend/\n",
      "/sre-book/load-balancing-datacenter/\n",
      "/sre-book/handling-overload/\n",
      "/sre-book/addressing-cascading-failures/\n",
      "/sre-book/managing-critical-state/\n",
      "/sre-book/distributed-periodic-scheduling/\n",
      "/sre-book/data-processing-pipelines/\n",
      "/sre-book/data-integrity/\n",
      "/sre-book/reliable-product-launches/\n",
      "/sre-book/part-IV-management/\n",
      "/sre-book/accelerating-sre-on-call/\n",
      "/sre-book/dealing-with-interrupts/\n",
      "/sre-book/operational-overload/\n",
      "/sre-book/communication-and-collaboration/\n",
      "/sre-book/evolving-sre-engagement-model/\n",
      "/sre-book/part-V-conclusions/\n",
      "/sre-book/lessons-learned/\n",
      "/sre-book/conclusion/\n",
      "/sre-book/availability-table/\n",
      "/sre-book/service-best-practices/\n",
      "/sre-book/incident-document/\n",
      "/sre-book/example-postmortem/\n",
      "/sre-book/launch-checklist/\n",
      "/sre-book/production-meeting/\n",
      "/sre-book/bibliography/\n",
      "https://creativecommons.org/licenses/by-nc-nd/4.0/\n"
     ]
    }
   ],
   "source": [
    "for i in a:\n",
    "    print(i['href'])"
   ]
  },
  {
   "cell_type": "code",
   "execution_count": 13,
   "metadata": {},
   "outputs": [],
   "source": [
    "for result in results:\n",
    "    print(result.text, end=\"\\n\"*2)"
   ]
  }
 ],
 "metadata": {
  "kernelspec": {
   "display_name": ".venv",
   "language": "python",
   "name": "python3"
  },
  "language_info": {
   "codemirror_mode": {
    "name": "ipython",
    "version": 3
   },
   "file_extension": ".py",
   "mimetype": "text/x-python",
   "name": "python",
   "nbconvert_exporter": "python",
   "pygments_lexer": "ipython3",
   "version": "3.10.4"
  },
  "orig_nbformat": 4
 },
 "nbformat": 4,
 "nbformat_minor": 2
}
