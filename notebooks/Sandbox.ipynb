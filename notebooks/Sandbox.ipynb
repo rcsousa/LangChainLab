{
 "cells": [
  {
   "cell_type": "code",
   "execution_count": 1,
   "metadata": {},
   "outputs": [],
   "source": [
    "import os\n",
    "import streamlit as st\n",
    "from dotenv import load_dotenv\n",
    "from PyPDF2 import PdfReader\n",
    "from langchain.document_loaders import PyPDFDirectoryLoader\n",
    "from langchain.chat_models import AzureChatOpenAI as AzureOpenAI\n",
    "from langchain.vectorstores import FAISS\n",
    "from langchain.embeddings import OpenAIEmbeddings\n",
    "from langchain.text_splitter import CharacterTextSplitter\n",
    "from langchain.document_loaders import UnstructuredURLLoader\n",
    "from langchain.chains.qa_with_sources import load_qa_with_sources_chain\n",
    "from langchain.chains import RetrievalQA\n",
    "from langchain.memory import ConversationBufferMemory\n",
    "from langchain.chains import ConversationalRetrievalChain\n",
    "from langchain.agents import Tool, initialize_agent"
   ]
  },
  {
   "cell_type": "code",
   "execution_count": 2,
   "metadata": {},
   "outputs": [],
   "source": [
    "load_dotenv()\n",
    " # Define OpenAI credentials\n",
    "openai_api_type = os.getenv(\"OPENAI_API_TYPE\")\n",
    "openai_api_version = os.getenv(\"OPENAI_API_VERSION\")\n",
    "openai_api_base = os.getenv(\"OPENAI_API_BASE\")\n",
    "openai_api_key = os.getenv(\"OPENAI_API_KEY\")\n",
    "model_deployment_id = os.getenv(\"MODEL_DEPLOYMENT_ID\")\n",
    "# Set environment variables\n",
    "if openai_api_base is not None:\n",
    "    os.environ[\"OPENAI_API_BASE\"] = openai_api_base\n",
    "if openai_api_key is not None:\n",
    "    os.environ[\"OPENAI_API_KEY\"] = openai_api_key\n",
    "if openai_api_type is not None:\n",
    "    os.environ[\"OPENAI_API_TYPE\"] = openai_api_type\n",
    "if openai_api_version is not None:\n",
    "     os.environ[\"OPENAI_API_VERSION\"] = str(openai_api_version)"
   ]
  },
  {
   "cell_type": "code",
   "execution_count": 3,
   "metadata": {},
   "outputs": [],
   "source": [
    "embeddings = OpenAIEmbeddings(\n",
    "client=any,\n",
    "deployment='embeddings',\n",
    "model='text-embedding-ada-002',\n",
    "openai_api_type=\"azure\",\n",
    "openai_api_base=\"https://copilot-openai.openai.azure.com\",\n",
    "openai_api_version=\"2023-05-15\",\n",
    "openai_api_key=os.environ[\"OPENAI_API_KEY\"],\n",
    "chunk_size=1\n",
    ")"
   ]
  },
  {
   "cell_type": "code",
   "execution_count": 27,
   "metadata": {},
   "outputs": [],
   "source": [
    "uploaded_docs = FAISS.load_local(\"faiss_uploaded_docs\", embeddings)\n",
    "llm1 = AzureOpenAI(deployment_name='trouble-buddy', model_name='gpt-3.5-turbo', temperature=0, client=any)\n",
    "memory = ConversationBufferMemory(memory_key='chat_history', return_messages=True)\n",
    "\n",
    "qa1 = RetrievalQA.from_chain_type(\n",
    "    llm=llm1,\n",
    "    retriever=uploaded_docs.as_retriever(),\n",
    "    memory=memory\n",
    ")"
   ]
  },
  {
   "cell_type": "code",
   "execution_count": 28,
   "metadata": {},
   "outputs": [],
   "source": [
    "kb_sre = FAISS.load_local(\"livro_google\", embeddings)\n",
    "#llm = AzureOpenAI(model_kwargs={'engine':'trouble-buddy'}, client=any)\n",
    "llm = AzureOpenAI(deployment_name='trouble-buddy', model_name='gpt-3.5-turbo', temperature=0.0, client=any)\n",
    "memory = ConversationBufferMemory(memory_key='chat_history', return_messages=True)\n",
    "\n",
    "qa = RetrievalQA.from_chain_type(\n",
    "    llm=llm,\n",
    "    retriever=kb_sre.as_retriever(),\n",
    "    chain_type='stuff',\n",
    "    memory=memory\n",
    ")\n"
   ]
  },
  {
   "cell_type": "code",
   "execution_count": 29,
   "metadata": {},
   "outputs": [
    {
     "data": {
      "text/plain": [
       "[Document(page_content='Azur e DevOps Outage in South Brazil\\n\\ueddbEMEric Mattingly ,\\n6/2/2023, 3:59 PM\\nOn W ednesday, 24 May 2023,\\nAzure DevOps had an outage\\nof one of our South Brazil\\n(SBR) scale units which lasted\\nfrom 12:10 to 22:31 UT C\\n(~10.5 hours). W e understand\\nhow impactful Azure DevOps\\noutages can be, and sincerely\\napologize to all the impacted\\ncustomers.\\nBack ground\\nAzure DevOps engineers\\nsometimes need to take a\\npoint-in-time snapshot of a\\nproduction database to\\ninvestigate customer\\nescalations or evaluate\\npotential performance\\nimprovements. T o ensure\\nthese snapshot databases get\\ncleaned up, a background job\\nruns every day and deletes\\nthem once they pass a certain\\nage.\\nWhat trigger ed the\\noutage?\\nDuring Sprint 222, we\\nupgraded our code base to\\nreplace the deprecated\\nMicrosoft.Azure.Managment.*\\npackages with the supported\\nAzure.R esourceManager.*\\nNuGet packages. This\\nresulted in a large pullEvent information\\nState\\nResolvedStart\\n5/24/2023, 9:10 AMEnd\\n5/24/2023, 7:35 PM\\nImpact information\\nSeverity', metadata={'source': 'uploads/Azure DevOps - Event.pdf', 'page': 0}),\n",
       " Document(page_content='\\ueddb request of mechanical\\nchanges swapping out API\\ncalls. Hidden within this pull\\nrequest was a typo bug in the\\nsnapshot deletion job which\\nswapped out a call to delete\\nthe Azure SQL Database to\\none that deletes the Azure\\nSQL Server that hosts the\\ndatabase. The conditions\\nunder which this code is run\\nare rare and were not well\\ncovered by our tests.\\nWe deployed Sprint 222\\nusing our Safe Deployment\\nPractices (SDP) to Ring 0 (our\\ninternal Azure DevOps\\norganization) where no\\nsnapshot databases existed\\nand so the job did not\\nexecute. After multiple days\\nin Ring 0, we next deployed\\nto Ring 1 where the impacted\\nSouth Brazil scale unit was\\nlocated. A snapshot database\\nwas present old enough to\\ntrigger the bug, and when\\nthe job deleted the Azure\\nSQL Server, it also deleted all\\nseventeen production\\ndatabases for the scale unit.\\nStarting at that moment, the\\nscale unit was unable to\\nprocess any customer traffic.\\nWas ther e data loss?\\nThere was no data loss\\nexperienced.\\nWhy did it tak e over 10', metadata={'source': 'uploads/Azure DevOps - Event.pdf', 'page': 1}),\n",
       " Document(page_content='databases for the scale unit.\\nStarting at that moment, the\\nscale unit was unable to\\nprocess any customer traffic.\\nWas ther e data loss?\\nThere was no data loss\\nexperienced.\\nWhy did it tak e over 10\\nhour s to recov er?\\nWe detected the outage\\nwithin 20 minutes of the\\ndatabase deletions starting\\nand our on-call engineers\\nengaged immediately. The\\nissue was quickly understood,\\nand we got to work restoring\\uf381Azur e DevOps Status Documentation RSS Privacy History /Event', metadata={'source': 'uploads/Azure DevOps - Event.pdf', 'page': 1}),\n",
       " Document(page_content='\\ueddb second in a\\nnormal situation.\\nDuring this time\\nthe web server’s\\nhealth probe was\\nfailing and was\\nthus not\\nreceiving\\ncustomer traffic\\nfrom the load\\nbalancer.\\nSince this process\\nwas staggered\\namongst all web\\nservers, by the\\ntime it finished\\nonly one or two\\nservers would be\\nback in the load\\nbalancer and\\ntaking customer\\ntraffic. They\\nwould then\\nbecome\\noverloaded, and\\nthe cycle would\\nstart again.\\nTowards the end\\nof the outage\\nwindow, we\\nblocked all traffic\\nto the scale unit\\nwith our\\nResource\\nUtilization\\nfeature to allow\\nall web servers to\\nwarm-up and\\nsuccessfully enter\\nthe load\\nbalancer. This\\nresulted in users\\nreceiving rate\\nlimit and usage\\nerrors. Once all\\ndatabases were\\nhealthy, we\\ngradually\\nunblocked users\\nto ramp the\\uf381Azur e DevOps Status Documentation RSS Privacy History /Event', metadata={'source': 'uploads/Azure DevOps - Event.pdf', 'page': 4})]"
      ]
     },
     "execution_count": 29,
     "metadata": {},
     "output_type": "execute_result"
    }
   ],
   "source": [
    "uploaded_docs.similarity_search(\"What happened During Sprint 222 on Azure that caused a service disruption?\")"
   ]
  },
  {
   "cell_type": "code",
   "execution_count": 30,
   "metadata": {},
   "outputs": [
    {
     "data": {
      "text/plain": [
       "\"There was an outage of one of Azure DevOps' South Brazil scale units which lasted for approximately 10.5 hours. The outage was caused by a background job that runs every day to delete point-in-time snapshot databases once they pass a certain age. During Sprint 222, Azure DevOps engineers upgraded their code base which resulted in a large pull of databases for the scale unit. Starting at that moment, the scale unit was unable to process any customer traffic. The issue was quickly understood, and the engineers got to work restoring the databases. There was no data loss experienced, but it took over 10 hours to recover. During this time, the web server's health probe was failing and was thus not receiving customer traffic from the load balancer. Once all databases were healthy, users were gradually unblocked to ramp the system back up.\""
      ]
     },
     "execution_count": 30,
     "metadata": {},
     "output_type": "execute_result"
    }
   ],
   "source": [
    "qa1.run(\"What happened?\")"
   ]
  },
  {
   "cell_type": "code",
   "execution_count": 31,
   "metadata": {},
   "outputs": [
    {
     "data": {
      "text/plain": [
       "'The incident lasted for approximately 10.5 hours, from 12:10 to 22:31 UTC on Wednesday, May 24, 2023.'"
      ]
     },
     "execution_count": 31,
     "metadata": {},
     "output_type": "execute_result"
    }
   ],
   "source": [
    "qa1.run(\"for how long did the incident last?\")"
   ]
  },
  {
   "cell_type": "code",
   "execution_count": 8,
   "metadata": {},
   "outputs": [],
   "source": [
    "tools = [\n",
    "    Tool(\n",
    "        name = \"Upload de documentos\",\n",
    "        func=qa1.run,\n",
    "        description=(\n",
    "            'Use this tool when answering questions about the uploaded documents.'\n",
    "        )\n",
    "    ),\n",
    "    Tool(\n",
    "        name=\"Base de Conhecimento sobre o livro Building Secure and Reliable Systems do Google\",\n",
    "        func=qa.run,\n",
    "        description=(\n",
    "            'Use this tool when answering questions about SRE (Site Reliability Engineeing) and about best practices for building secure and reliable systems.'\n",
    "        )\n",
    "    )\n",
    "]\n",
    "agente = initialize_agent(\n",
    "    agent='chat-conversational-react-description',\n",
    "    tools=tools,\n",
    "    llm=llm,\n",
    "    verbose=True,\n",
    "    max_interactions=3,\n",
    "    early_stopping_method='generate',\n",
    "    memory=memory,\n",
    "    handle_parsing_errors=True\n",
    ")"
   ]
  },
  {
   "cell_type": "code",
   "execution_count": 33,
   "metadata": {},
   "outputs": [
    {
     "name": "stdout",
     "output_type": "stream",
     "text": [
      "\n",
      "\n",
      "\u001b[1m> Entering new AgentExecutor chain...\u001b[0m\n",
      "\u001b[32;1m\u001b[1;3m{\n",
      "    \"action\": \"Base de Conhecimento sobre o livro Building Secure and Reliable Systems do Google\",\n",
      "    \"action_input\": \"What are the SRE principles associated with Observability?\"\n",
      "}\u001b[0m\n",
      "Observation: \u001b[33;1m\u001b[1;3mThe given context does not provide a direct answer to the user's question. However, the context mentions the importance of recording observations and expectations during an investigation, which can help in understanding the steps taken during the investigation and can be useful for other team members to participate in or take over the investigation. This is related to the principle of observability, which is one of the key principles of SRE. Observability refers to the ability to understand the internal state of a system based on its external outputs. By recording observations and expectations, SREs can improve the observability of the system and make it easier to debug and troubleshoot issues. Additionally, the context mentions the importance of monitoring operational metrics and incorporating reliability features like health checking and SLA compliance, which are also related to observability.\u001b[0m\n",
      "Thought:\u001b[32;1m\u001b[1;3m{\n",
      "    \"action\": \"Final Answer\",\n",
      "    \"action_input\": \"Observability is one of the key principles of SRE. It refers to the ability to understand the internal state of a system based on its external outputs. By recording observations and expectations, SREs can improve the observability of the system and make it easier to debug and troubleshoot issues. Additionally, monitoring operational metrics and incorporating reliability features like health checking and SLA compliance are also related to observability.\"\n",
      "}\u001b[0m\n",
      "\n",
      "\u001b[1m> Finished chain.\u001b[0m\n"
     ]
    },
    {
     "data": {
      "text/plain": [
       "{'input': 'What are the SRE principles? associated with Observability?',\n",
       " 'chat_history': [HumanMessage(content='What is the uploaded document all about?', additional_kwargs={}, example=False),\n",
       "  AIMessage(content=\"I apologize for the confusion earlier. Unfortunately, I don't have any information about an uploaded document since I don't have access to it. However, if you can provide me with more context or information about what you are looking for, I will do my best to assist you.\", additional_kwargs={}, example=False),\n",
       "  HumanMessage(content='What incident happened on Azure that is decribed in the document uploaded?', additional_kwargs={}, example=False),\n",
       "  AIMessage(content=\"You're welcome! If you have any questions in the future, don't hesitate to ask. Have a great day!\", additional_kwargs={}, example=False),\n",
       "  HumanMessage(content='What happened During Sprint 222 on Azure that caused a service disruption?', additional_kwargs={}, example=False),\n",
       "  AIMessage(content='During Sprint 222 on Azure, there was a service disruption caused by a typo bug in the snapshot deletion job which swapped out a call to delete the Azure SQL Database to one that deletes the Azure SQL Server that hosts the database. This caused an outage of one of their South Brazil (SBR) scale units which lasted from 12:10 to 22:31 UTC (~10.5 hours).', additional_kwargs={}, example=False),\n",
       "  HumanMessage(content='What happened During Sprint 222 on Azure that caused a service disruption?', additional_kwargs={}, example=False),\n",
       "  AIMessage(content='During Sprint 222, a typo bug in the snapshot deletion job caused an outage of one of their South Brazil (SBR) scale units which lasted from 12:10 to 22:31 UTC (~10.5 hours). The bug swapped out a call to delete the Azure SQL Database to one that deletes the Azure SQL Server that hosts the database. The conditions under which this code is run are rare and were not well covered by their tests.', additional_kwargs={}, example=False),\n",
       "  HumanMessage(content='What happened During Sprint 222 on Azure that caused a service disruption that is discribed in the uploaded file?', additional_kwargs={}, example=False),\n",
       "  AIMessage(content='During Sprint 222, a typo bug in the snapshot deletion job caused an outage of one of their South Brazil (SBR) scale units which lasted from 12:10 to 22:31 UTC (~10.5 hours). The bug swapped out a call to delete the Azure SQL Database to one that deletes the Azure SQL Server that hosts the database. The conditions under which this code is run are rare and were not well covered by their tests.', additional_kwargs={}, example=False),\n",
       "  HumanMessage(content='What happened?', additional_kwargs={}, example=False),\n",
       "  AIMessage(content=\"There was an outage of one of Azure DevOps' South Brazil scale units which lasted for approximately 10.5 hours. The outage was caused by a background job that runs every day to delete point-in-time snapshot databases once they pass a certain age. During Sprint 222, Azure DevOps engineers upgraded their code base which resulted in a large pull of databases for the scale unit. Starting at that moment, the scale unit was unable to process any customer traffic. The issue was quickly understood, and the engineers got to work restoring the databases. There was no data loss experienced, but it took over 10 hours to recover. During this time, the web server's health probe was failing and was thus not receiving customer traffic from the load balancer. Once all databases were healthy, users were gradually unblocked to ramp the system back up.\", additional_kwargs={}, example=False),\n",
       "  HumanMessage(content='for how long did the incident last?', additional_kwargs={}, example=False),\n",
       "  AIMessage(content='The incident lasted for approximately 10.5 hours, from 12:10 to 22:31 UTC on Wednesday, May 24th, 2023.', additional_kwargs={}, example=False),\n",
       "  HumanMessage(content='What are the SRE principles? associated with Observability?', additional_kwargs={}, example=False),\n",
       "  AIMessage(content='Observability is one of the key principles of SRE. It refers to the ability to understand the internal state of a system based on its external outputs. By recording observations and expectations, SREs can improve the observability of the system and make it easier to debug and troubleshoot issues. Additionally, monitoring operational metrics and incorporating reliability features like health checking and SLA compliance are also related to observability.', additional_kwargs={}, example=False)],\n",
       " 'output': 'Observability is one of the key principles of SRE. It refers to the ability to understand the internal state of a system based on its external outputs. By recording observations and expectations, SREs can improve the observability of the system and make it easier to debug and troubleshoot issues. Additionally, monitoring operational metrics and incorporating reliability features like health checking and SLA compliance are also related to observability.'}"
      ]
     },
     "execution_count": 33,
     "metadata": {},
     "output_type": "execute_result"
    }
   ],
   "source": [
    "agente(\"What are the SRE principles? associated with Observability?\")"
   ]
  }
 ],
 "metadata": {
  "kernelspec": {
   "display_name": ".venv",
   "language": "python",
   "name": "python3"
  },
  "language_info": {
   "codemirror_mode": {
    "name": "ipython",
    "version": 3
   },
   "file_extension": ".py",
   "mimetype": "text/x-python",
   "name": "python",
   "nbconvert_exporter": "python",
   "pygments_lexer": "ipython3",
   "version": "3.10.4"
  },
  "orig_nbformat": 4
 },
 "nbformat": 4,
 "nbformat_minor": 2
}
