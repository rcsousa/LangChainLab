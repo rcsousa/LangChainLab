{
 "cells": [
  {
   "cell_type": "code",
   "execution_count": 14,
   "metadata": {},
   "outputs": [],
   "source": [
    "import os\n",
    "import streamlit as st\n",
    "from dotenv import load_dotenv\n",
    "from PyPDF2 import PdfReader\n",
    "from langchain.document_loaders import PyPDFDirectoryLoader\n",
    "from langchain.chat_models import AzureChatOpenAI as AzureOpenAI\n",
    "from langchain.vectorstores import FAISS\n",
    "from langchain.embeddings import OpenAIEmbeddings\n",
    "from langchain.text_splitter import CharacterTextSplitter\n",
    "from langchain.document_loaders import UnstructuredURLLoader\n",
    "from langchain.chains.qa_with_sources import load_qa_with_sources_chain\n",
    "from langchain.chains import RetrievalQA\n",
    "from langchain.memory import ConversationBufferMemory\n",
    "from langchain.chains import ConversationalRetrievalChain\n",
    "from langchain.agents import Tool, initialize_agent"
   ]
  },
  {
   "cell_type": "code",
   "execution_count": 15,
   "metadata": {},
   "outputs": [],
   "source": [
    "load_dotenv()\n",
    " # Define OpenAI credentials\n",
    "openai_api_type = os.getenv(\"OPENAI_API_TYPE\")\n",
    "openai_api_version = os.getenv(\"OPENAI_API_VERSION\")\n",
    "openai_api_base = os.getenv(\"OPENAI_API_BASE\")\n",
    "openai_api_key = os.getenv(\"OPENAI_API_KEY\")\n",
    "model_deployment_id = os.getenv(\"MODEL_DEPLOYMENT_ID\")\n",
    "# Set environment variables\n",
    "if openai_api_base is not None:\n",
    "    os.environ[\"OPENAI_API_BASE\"] = openai_api_base\n",
    "if openai_api_key is not None:\n",
    "    os.environ[\"OPENAI_API_KEY\"] = openai_api_key\n",
    "if openai_api_type is not None:\n",
    "    os.environ[\"OPENAI_API_TYPE\"] = openai_api_type\n",
    "if openai_api_version is not None:\n",
    "     os.environ[\"OPENAI_API_VERSION\"] = str(openai_api_version)"
   ]
  },
  {
   "cell_type": "code",
   "execution_count": 16,
   "metadata": {},
   "outputs": [],
   "source": [
    "embeddings = OpenAIEmbeddings(\n",
    "client=any,\n",
    "deployment='embeddings',\n",
    "model='text-embedding-ada-002',\n",
    "openai_api_type=\"azure\",\n",
    "openai_api_base=\"https://copilot-openai.openai.azure.com\",\n",
    "openai_api_version=\"2023-05-15\",\n",
    "openai_api_key=os.environ[\"OPENAI_API_KEY\"],\n",
    "chunk_size=1\n",
    ")"
   ]
  },
  {
   "cell_type": "code",
   "execution_count": 23,
   "metadata": {},
   "outputs": [],
   "source": [
    "kb_sre = FAISS.load_local(\"livro_google\", embeddings)\n",
    "#llm = AzureOpenAI(model_kwargs={'engine':'trouble-buddy'}, client=any)\n",
    "llm = AzureOpenAI(deployment_name='trouble-buddy', model_name='gpt-3.5-turbo', temperature=0.0, client=any)\n",
    "memory = ConversationBufferMemory(memory_key='chat_history', return_messages=True)\n",
    "\n",
    "qa = RetrievalQA.from_chain_type(\n",
    "    llm=llm,\n",
    "    retriever=kb_sre.as_retriever(),\n",
    "    chain_type='stuff',\n",
    "    #memory=memory\n",
    ")\n",
    "tools = [\n",
    "    Tool(\n",
    "        name=\"Base de Conhecimento sobre o livro Building Secure and Reliable Systems do Google\",\n",
    "        func=qa.run,\n",
    "        description=(\n",
    "            'Use this tool when answering questions about SRE (Site Reliability Engineeing) and about best practices for building secure and reliable systems.'\n",
    "        )\n",
    "    )\n",
    "]\n",
    "agente = initialize_agent(\n",
    "    agent='chat-conversational-react-description',\n",
    "    tools=tools,\n",
    "    llm=llm,\n",
    "    verbose=True,\n",
    "    max_interactions=3,\n",
    "    early_stopping_method='generate',\n",
    "    memory=memory,\n",
    "    handle_parsing_errors=True\n",
    ")"
   ]
  },
  {
   "cell_type": "code",
   "execution_count": 24,
   "metadata": {},
   "outputs": [
    {
     "name": "stdout",
     "output_type": "stream",
     "text": [
      "\n",
      "\n",
      "\u001b[1m> Entering new AgentExecutor chain...\u001b[0m\n",
      "\u001b[32;1m\u001b[1;3m{\n",
      "    \"action\": \"Base de Conhecimento sobre o livro Building Secure and Reliable Systems do Google\",\n",
      "    \"action_input\": \"What is the importance of SRE?\"\n",
      "}\u001b[0m\n",
      "Observation: \u001b[36;1m\u001b[1;3mSREs (Site Reliability Engineers) are important because they are responsible for ensuring that a company's systems and services are reliable, scalable, and efficient. They work to prevent outages and other issues that could negatively impact a company's users or customers. SREs also play a critical role in developing centralized infrastructure and organization-wide automation. Additionally, they work closely with security engineers to evaluate security and reliability risks and provide advice on how to mitigate those risks. Overall, SREs are essential for maintaining the stability and performance of a company's systems and services.\u001b[0m\n",
      "Thought:\u001b[32;1m\u001b[1;3m{\n",
      "    \"action\": \"Final Answer\",\n",
      "    \"action_input\": \"SREs are responsible for ensuring that a company's systems and services are reliable, scalable, and efficient. They work to prevent outages and other issues that could negatively impact a company's users or customers. SREs also play a critical role in developing centralized infrastructure and organization-wide automation. Additionally, they work closely with security engineers to evaluate security and reliability risks and provide advice on how to mitigate those risks. Overall, SREs are essential for maintaining the stability and performance of a company's systems and services.\"\n",
      "}\u001b[0m\n",
      "\n",
      "\u001b[1m> Finished chain.\u001b[0m\n"
     ]
    },
    {
     "data": {
      "text/plain": [
       "{'input': 'What is the importance of SRE?',\n",
       " 'chat_history': [HumanMessage(content='What is the importance of SRE?', additional_kwargs={}, example=False),\n",
       "  AIMessage(content=\"SREs are responsible for ensuring that a company's systems and services are reliable, scalable, and efficient. They work to prevent outages and other issues that could negatively impact a company's users or customers. SREs also play a critical role in developing centralized infrastructure and organization-wide automation. Additionally, they work closely with security engineers to evaluate security and reliability risks and provide advice on how to mitigate those risks. Overall, SREs are essential for maintaining the stability and performance of a company's systems and services.\", additional_kwargs={}, example=False)],\n",
       " 'output': \"SREs are responsible for ensuring that a company's systems and services are reliable, scalable, and efficient. They work to prevent outages and other issues that could negatively impact a company's users or customers. SREs also play a critical role in developing centralized infrastructure and organization-wide automation. Additionally, they work closely with security engineers to evaluate security and reliability risks and provide advice on how to mitigate those risks. Overall, SREs are essential for maintaining the stability and performance of a company's systems and services.\"}"
      ]
     },
     "execution_count": 24,
     "metadata": {},
     "output_type": "execute_result"
    }
   ],
   "source": [
    "agente(\"What is the importance of SRE?\")"
   ]
  }
 ],
 "metadata": {
  "kernelspec": {
   "display_name": ".venv",
   "language": "python",
   "name": "python3"
  },
  "language_info": {
   "codemirror_mode": {
    "name": "ipython",
    "version": 3
   },
   "file_extension": ".py",
   "mimetype": "text/x-python",
   "name": "python",
   "nbconvert_exporter": "python",
   "pygments_lexer": "ipython3",
   "version": "3.10.4"
  },
  "orig_nbformat": 4
 },
 "nbformat": 4,
 "nbformat_minor": 2
}
